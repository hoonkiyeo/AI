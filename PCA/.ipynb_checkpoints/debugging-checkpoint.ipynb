{
 "cells": [
  {
   "cell_type": "code",
   "execution_count": 8,
   "id": "e10646a6",
   "metadata": {},
   "outputs": [],
   "source": [
    "import numpy as np\n",
    "import matplotlib.pyplot as plt\n",
    "from scipy.linalg import eigh"
   ]
  },
  {
   "cell_type": "code",
   "execution_count": 19,
   "id": "52201492",
   "metadata": {},
   "outputs": [
    {
     "data": {
      "text/plain": [
       "1024"
      ]
     },
     "execution_count": 19,
     "metadata": {},
     "output_type": "execute_result"
    }
   ],
   "source": [
    "x = np.load(\"YaleB_32x32.npy\")\n",
    "len(x)\n",
    "len(x[0])"
   ]
  },
  {
   "cell_type": "code",
   "execution_count": 10,
   "id": "1ba59446",
   "metadata": {},
   "outputs": [
    {
     "data": {
      "text/plain": [
       "array([[ 19.63628832,  18.53935377,  14.47183099, ..., -17.13877382,\n",
       "        -17.26429163, -27.28293289],\n",
       "       [ 23.63628832,  23.53935377,  16.47183099, ..., -32.13877382,\n",
       "        -36.26429163, -40.28293289],\n",
       "       [ 13.63628832,  25.53935377,  22.47183099, ..., -43.13877382,\n",
       "        -44.26429163, -43.28293289],\n",
       "       ...,\n",
       "       [-59.36371168, -59.46064623, -54.52816901, ..., 147.86122618,\n",
       "        151.73570837, 142.71706711],\n",
       "       [-59.36371168, -59.46064623, -54.52816901, ..., 200.86122618,\n",
       "        204.73570837, 200.71706711],\n",
       "       [-57.36371168, -59.46064623, -53.52816901, ..., 121.86122618,\n",
       "        124.73570837, 129.71706711]])"
      ]
     },
     "execution_count": 10,
     "metadata": {},
     "output_type": "execute_result"
    }
   ],
   "source": [
    "x - np.mean(x,axis=0)"
   ]
  },
  {
   "cell_type": "code",
   "execution_count": 11,
   "id": "b9c1626e",
   "metadata": {},
   "outputs": [
    {
     "data": {
      "text/plain": [
       "69.32057100183823"
      ]
     },
     "execution_count": 11,
     "metadata": {},
     "output_type": "execute_result"
    }
   ],
   "source": [
    "np.average(x)"
   ]
  },
  {
   "cell_type": "code",
   "execution_count": 4,
   "id": "1e9e50de",
   "metadata": {},
   "outputs": [],
   "source": [
    "def load_and_center_dataset(filename):\n",
    "    x = np.load(filename)\n",
    "    n = len(x)\n",
    "    d = len(x[0])\n",
    "    recenter = x - np.mean(x, axis=0)\n",
    "    return recenter"
   ]
  },
  {
   "cell_type": "code",
   "execution_count": 23,
   "id": "639c0dd1",
   "metadata": {},
   "outputs": [],
   "source": [
    "x = load_and_center_dataset('YaleB_32x32.npy')"
   ]
  },
  {
   "cell_type": "code",
   "execution_count": 24,
   "id": "f45a05fc",
   "metadata": {},
   "outputs": [],
   "source": [
    "def get_covariance(dataset):\n",
    "    trans_data = np.transpose(dataset)\n",
    "    return (1 / (len(dataset) - 1)) * (trans_data@dataset)\n"
   ]
  },
  {
   "cell_type": "code",
   "execution_count": 26,
   "id": "5c0f4087",
   "metadata": {},
   "outputs": [
    {
     "data": {
      "text/plain": [
       "(1024, 1024)"
      ]
     },
     "execution_count": 26,
     "metadata": {},
     "output_type": "execute_result"
    }
   ],
   "source": [
    "get_covariance(x)"
   ]
  },
  {
   "cell_type": "code",
   "execution_count": 27,
   "id": "09814f9b",
   "metadata": {},
   "outputs": [],
   "source": [
    "S = get_covariance(x)"
   ]
  },
  {
   "cell_type": "code",
   "execution_count": 28,
   "id": "ee62868a",
   "metadata": {},
   "outputs": [
    {
     "data": {
      "text/plain": [
       "array([[ 4489.89086662,  4389.34792897,  3995.10495964, ...,\n",
       "        -1746.30867941, -1717.96935269, -1747.38102573],\n",
       "       [ 4389.34792897,  4494.33226746,  4121.91863906, ...,\n",
       "        -1806.20485557, -1776.84081736, -1794.5663578 ],\n",
       "       [ 3995.10495964,  4121.91863906,  4165.45776399, ...,\n",
       "        -1715.27680755, -1671.3253095 , -1691.55397407],\n",
       "       ...,\n",
       "       [-1746.30867941, -1806.20485557, -1715.27680755, ...,\n",
       "         3756.33920877,  3586.66741082,  3219.28148259],\n",
       "       [-1717.96935269, -1776.84081736, -1671.3253095 , ...,\n",
       "         3586.66741082,  3596.68436881,  3292.45606665],\n",
       "       [-1747.38102573, -1794.5663578 , -1691.55397407, ...,\n",
       "         3219.28148259,  3292.45606665,  3497.1660824 ]])"
      ]
     },
     "execution_count": 28,
     "metadata": {},
     "output_type": "execute_result"
    }
   ],
   "source": [
    "S"
   ]
  },
  {
   "cell_type": "code",
   "execution_count": 29,
   "id": "66a7a5ab",
   "metadata": {},
   "outputs": [],
   "source": [
    "def get_eig(S, m):\n",
    "    # get eigen vectors and eigen values\n",
    "    Lambda, U = eigh(S)\n",
    "    # extract the largest m eigevalues of S\n",
    "    tmp = Lambda[-m:]\n",
    "    pair = []\n",
    "    # extract corresponding eigen vectors of S\n",
    "    for row in U:\n",
    "        raw = list(row[-m:])\n",
    "        raw = raw[::-1]\n",
    "        pair += [raw]\n",
    "    pair = np.array(pair)\n",
    "    # put eigen vectors into a diagonal matrix\n",
    "    tmp[::-1].sort()\n",
    "    eigenvalue = np.diag(tmp)\n",
    "\n",
    "    return eigenvalue, pair\n"
   ]
  },
  {
   "cell_type": "code",
   "execution_count": 30,
   "id": "876915bf",
   "metadata": {},
   "outputs": [
    {
     "name": "stdout",
     "output_type": "stream",
     "text": [
      "[[1369142.41612494       0.        ]\n",
      " [      0.         1341168.50476773]]\n"
     ]
    }
   ],
   "source": [
    "Lambda, U = get_eig(S, 2)\n",
    "print(Lambda)"
   ]
  },
  {
   "cell_type": "code",
   "execution_count": 31,
   "id": "e79b5264",
   "metadata": {},
   "outputs": [
    {
     "name": "stdout",
     "output_type": "stream",
     "text": [
      "[[-0.01304065 -0.0432441 ]\n",
      " [-0.01177219 -0.04342345]\n",
      " [-0.00905278 -0.04095089]\n",
      " ...\n",
      " [ 0.00148631  0.03622013]\n",
      " [ 0.00205216  0.0348093 ]\n",
      " [ 0.00305951  0.03330786]]\n"
     ]
    }
   ],
   "source": [
    "print(U)"
   ]
  },
  {
   "cell_type": "code",
   "execution_count": 80,
   "id": "5ed14278",
   "metadata": {},
   "outputs": [
    {
     "data": {
      "text/plain": [
       "array([[0.10360547, 0.0302528 , 0.06299213, ..., 0.09987567, 0.07791131,\n",
       "        0.04227103],\n",
       "       [0.0302528 , 0.09946125, 0.05263158, ..., 0.00331538, 0.08164111,\n",
       "        0.07293825],\n",
       "       [0.06299213, 0.05263158, 0.01616245, ..., 0.0037298 , 0.04848736,\n",
       "        0.04517199],\n",
       "       ...,\n",
       "       [0.09987567, 0.00331538, 0.0037298 , ..., 0.06174886, 0.07418152,\n",
       "        0.03315375],\n",
       "       [0.07791131, 0.08164111, 0.04848736, ..., 0.07418152, 0.06962288,\n",
       "        0.09821799],\n",
       "       [0.04227103, 0.07293825, 0.04517199, ..., 0.03315375, 0.09821799,\n",
       "        0.04434314]])"
      ]
     },
     "execution_count": 80,
     "metadata": {},
     "output_type": "execute_result"
    }
   ],
   "source": [
    "S"
   ]
  },
  {
   "cell_type": "code",
   "execution_count": null,
   "id": "a9abb81d",
   "metadata": {},
   "outputs": [],
   "source": []
  }
 ],
 "metadata": {
  "kernelspec": {
   "display_name": "Python 3 (ipykernel)",
   "language": "python",
   "name": "python3"
  },
  "language_info": {
   "codemirror_mode": {
    "name": "ipython",
    "version": 3
   },
   "file_extension": ".py",
   "mimetype": "text/x-python",
   "name": "python",
   "nbconvert_exporter": "python",
   "pygments_lexer": "ipython3",
   "version": "3.10.1"
  }
 },
 "nbformat": 4,
 "nbformat_minor": 5
}

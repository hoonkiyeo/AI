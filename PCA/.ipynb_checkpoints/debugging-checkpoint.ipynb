{
 "cells": [
  {
   "cell_type": "code",
   "execution_count": 1,
   "id": "e10646a6",
   "metadata": {},
   "outputs": [],
   "source": [
    "import numpy as np\n",
    "import matplotlib.pyplot as plt\n",
    "from scipy.linalg import eigh\n",
    "import matplotlib\n",
    "%matplotlib inline\n",
    "matplotlib.use('Agg')"
   ]
  },
  {
   "cell_type": "code",
   "execution_count": 32,
   "id": "1e9e50de",
   "metadata": {},
   "outputs": [],
   "source": [
    "def load_and_center_dataset(filename):\n",
    "    x = np.load(filename)\n",
    "    n = len(x)\n",
    "    d = len(x[0])\n",
    "    recenter = x - np.mean(x, axis=0)\n",
    "    return recenter"
   ]
  },
  {
   "cell_type": "code",
   "execution_count": 33,
   "id": "f45a05fc",
   "metadata": {},
   "outputs": [],
   "source": [
    "def get_covariance(dataset):\n",
    "    trans_data = np.transpose(dataset)\n",
    "    return (1 / (len(dataset) - 1)) * (trans_data@dataset)\n"
   ]
  },
  {
   "cell_type": "code",
   "execution_count": 34,
   "id": "e2586931",
   "metadata": {},
   "outputs": [],
   "source": [
    "def get_eig(S, m):\n",
    "    Lambda, U = eigh(S, subset_by_index = [len(S) - m, len(S) - 1])\n",
    "    return np.diag(Lambda[::-1]), np.fliplr(U)"
   ]
  },
  {
   "cell_type": "code",
   "execution_count": 35,
   "id": "a9abb81d",
   "metadata": {},
   "outputs": [],
   "source": [
    "def get_eig_prop(S, prop):\n",
    "    total_value = sum(eigh(S, eigvals_only = True))\n",
    "    min_val = total_value * prop\n",
    "    Lambda, U = eigh(S, subset_by_value = [min_val, np.inf])\n",
    "    return np.diag(Lambda[::-1]), np.fliplr(U)"
   ]
  },
  {
   "cell_type": "code",
   "execution_count": 36,
   "id": "75c92577",
   "metadata": {},
   "outputs": [],
   "source": [
    "def project_image(image, U):\n",
    "    return (np.transpose(image)@U)@np.transpose(U)"
   ]
  },
  {
   "cell_type": "code",
   "execution_count": 45,
   "id": "26fa5b46",
   "metadata": {},
   "outputs": [],
   "source": [
    "def display_image(orig, proj):\n",
    "    \n",
    "    orig = np.transpose(np.reshape(orig, (32,32)))\n",
    "    proj = np.transpose(np.reshape(proj, (32,32)))\n",
    "    \n",
    "    fig, (ax1,ax2) = plt.subplots(1,2)\n",
    "    ax1.set_title(\"Original\")\n",
    "    ax2.set_title(\"Projection\")\n",
    "    orig_img = ax1.imshow(orig, aspect = \"equal\")\n",
    "    proj_img = ax2.imshow(proj, aspect = \"equal\")\n",
    "    \n",
    "    fig.colorbar(orig_img, ax=ax1)\n",
    "    fig.colorbar(proj_img, ax=ax2)\n",
    "    fig.set_size_inches(10, 3.5)\n",
    "\n",
    "    \n",
    "    plt.savefig(\"output.png\")\n"
   ]
  },
  {
   "cell_type": "code",
   "execution_count": 2,
   "id": "ed7bbd72",
   "metadata": {},
   "outputs": [],
   "source": [
    "def load_and_center_dataset(filename):\n",
    "    x = np.load(filename)\n",
    "    n = len(x)\n",
    "    d = len(x[0])\n",
    "    recenter = x - np.mean(x, axis=0)\n",
    "    return recenter\n",
    "\n",
    "def get_covariance(dataset):\n",
    "    trans_data = np.transpose(dataset)\n",
    "    return (1 / (len(dataset) - 1)) * (trans_data@dataset)\n",
    "\n",
    "def get_eig(S, m):\n",
    "    Lambda, U = eigh(S, subset_by_index = [len(S) - m, len(S) - 1])\n",
    "    return np.diag(Lambda[::-1]), np.fliplr(U)\n",
    "\n",
    "def get_eig_prop(S, prop):\n",
    "    #total sum of eigenvalues\n",
    "    total_value = sum(eigh(S, eigvals_only = True))\n",
    "    #minimum eigenvalue\n",
    "    min_val = total_value * prop\n",
    "    Lambda, U = eigh(S, subset_by_value = [min_val, np.inf])\n",
    "    return np.diag(Lambda[::-1]), np.fliplr(U)\n",
    "    \n",
    "def project_image(image, U):\n",
    "    return (np.transpose(image)@U)@np.transpose(U)\n",
    "\n",
    "def display_image(orig, proj):\n",
    "    orig = np.transpose(np.reshape(orig, (32,32)))\n",
    "    proj = np.transpose(np.reshape(proj, (32,32)))\n",
    "    \n",
    "    fig, (ax1,ax2) = plt.subplots(1,2)\n",
    "    ax1.set_title(\"Original\")\n",
    "    ax2.set_title(\"Projection\")\n",
    "    orig_img = ax1.imshow(orig, aspect = \"equal\")\n",
    "    proj_img = ax2.imshow(proj, aspect = \"equal\")\n",
    "    \n",
    "    #set size of the figures\n",
    "    fig.colorbar(orig_img, ax=ax1)\n",
    "    fig.colorbar(proj_img, ax=ax2)\n",
    "    fig.set_size_inches(10, 3.5)\n",
    "\n",
    "    plt.savefig(\"output.png\")\n"
   ]
  },
  {
   "cell_type": "code",
   "execution_count": 3,
   "id": "4a9cd618",
   "metadata": {},
   "outputs": [],
   "source": [
    "x = load_and_center_dataset('YaleB_32x32.npy')\n",
    "S = get_covariance(x)\n",
    "Lambda, U = get_eig(S, 2)\n",
    "projection = project_image(x[0], U)\n",
    "display_image(x[0], projection)"
   ]
  },
  {
   "cell_type": "code",
   "execution_count": null,
   "id": "a7a7cda2",
   "metadata": {},
   "outputs": [],
   "source": []
  },
  {
   "cell_type": "code",
   "execution_count": null,
   "id": "411be450",
   "metadata": {},
   "outputs": [],
   "source": []
  }
 ],
 "metadata": {
  "kernelspec": {
   "display_name": "Python 3 (ipykernel)",
   "language": "python",
   "name": "python3"
  },
  "language_info": {
   "codemirror_mode": {
    "name": "ipython",
    "version": 3
   },
   "file_extension": ".py",
   "mimetype": "text/x-python",
   "name": "python",
   "nbconvert_exporter": "python",
   "pygments_lexer": "ipython3",
   "version": "3.10.1"
  }
 },
 "nbformat": 4,
 "nbformat_minor": 5
}

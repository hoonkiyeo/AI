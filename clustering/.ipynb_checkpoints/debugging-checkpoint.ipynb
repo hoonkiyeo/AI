{
 "cells": [
  {
   "cell_type": "code",
   "execution_count": 8,
   "id": "cbce47da",
   "metadata": {},
   "outputs": [],
   "source": [
    "import csv\n",
    "import pandas as pd\n",
    "def load_data(filepath):\n",
    "    pass\n",
    "def calculate_x_y(row):\n",
    "    pass\n",
    "def hac(features):\n",
    "    pass\n",
    "def random_x_y(n):\n",
    "    pass\n",
    "def imshow_hac(Z):\n",
    "    pass"
   ]
  },
  {
   "cell_type": "code",
   "execution_count": 19,
   "id": "a3fd8415",
   "metadata": {},
   "outputs": [],
   "source": [
    "def load_data(filepath):\n",
    "    lst = []\n",
    "    with open('Pokemon.csv') as file:\n",
    "        reader = csv.DictReader(file)\n",
    "        for row in reader:\n",
    "            row['HP'] = int(row['HP'])\n",
    "            row['Attack'] = int(row['Attack'])\n",
    "            row['Defense'] = int(row['Defense'])\n",
    "            row['Sp. Atk'] = int(row['Sp. Atk'])\n",
    "            row['Sp. Def'] = int(row['Sp. Def'])\n",
    "            row['Speed'] = int(row['Speed'])\n",
    "            lst.append(row)\n",
    "    return lst"
   ]
  },
  {
   "cell_type": "code",
   "execution_count": null,
   "id": "fd33d1dc",
   "metadata": {},
   "outputs": [],
   "source": []
  }
 ],
 "metadata": {
  "kernelspec": {
   "display_name": "Python 3 (ipykernel)",
   "language": "python",
   "name": "python3"
  },
  "language_info": {
   "codemirror_mode": {
    "name": "ipython",
    "version": 3
   },
   "file_extension": ".py",
   "mimetype": "text/x-python",
   "name": "python",
   "nbconvert_exporter": "python",
   "pygments_lexer": "ipython3",
   "version": "3.10.1"
  }
 },
 "nbformat": 4,
 "nbformat_minor": 5
}

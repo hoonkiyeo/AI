{
 "cells": [
  {
   "cell_type": "code",
   "execution_count": 13,
   "id": "cbce47da",
   "metadata": {},
   "outputs": [],
   "source": [
    "import csv\n",
    "import pandas as pd\n",
    "import numpy as np\n",
    "def load_data(filepath):\n",
    "    pass\n",
    "def calculate_x_y(row):\n",
    "    pass\n",
    "def hac(features):\n",
    "    pass\n",
    "def imshow_hac(Z):\n",
    "    pass"
   ]
  },
  {
   "cell_type": "code",
   "execution_count": 33,
   "id": "a3fd8415",
   "metadata": {},
   "outputs": [],
   "source": [
    "def load_data(filepath):\n",
    "    lst = []\n",
    "    with open(filepath) as file:\n",
    "        reader = csv.DictReader(file)\n",
    "        for row in reader:\n",
    "            lst.append(row)\n",
    "    return lst"
   ]
  },
  {
   "cell_type": "code",
   "execution_count": 12,
   "id": "fd33d1dc",
   "metadata": {},
   "outputs": [
    {
     "data": {
      "text/plain": [
       "{'#': '1',\n",
       " 'Name': 'Bulbasaur',\n",
       " 'Type 1': 'Grass',\n",
       " 'Type 2': 'Poison',\n",
       " 'Total': '318',\n",
       " 'HP': '45',\n",
       " 'Attack': '49',\n",
       " 'Defense': '49',\n",
       " 'Sp. Atk': '65',\n",
       " 'Sp. Def': '65',\n",
       " 'Speed': '45',\n",
       " 'Generation': '1',\n",
       " 'Legendary': 'False'}"
      ]
     },
     "execution_count": 12,
     "metadata": {},
     "output_type": "execute_result"
    }
   ],
   "source": [
    "data = load_data('Pokemon.csv')\n",
    "info = data[0]\n",
    "\n",
    "info"
   ]
  },
  {
   "cell_type": "code",
   "execution_count": 18,
   "id": "89c9fa45",
   "metadata": {},
   "outputs": [],
   "source": [
    "def calculate_x_y(row):\n",
    "    x1 = int(row['Attack'])\n",
    "    x2 = int(row['Sp. Atk'])\n",
    "    x3 = int(row['Speed'])\n",
    "    x4 = int(row['Defense'])\n",
    "    x5 = int(row['Sp. Def'])\n",
    "    x6 = int(row['HP'])\n",
    "    return np.array((x1,x2,x3,x4,x5,x6)).reshape(6,)"
   ]
  },
  {
   "cell_type": "code",
   "execution_count": 25,
   "id": "1659199c",
   "metadata": {},
   "outputs": [
    {
     "data": {
      "text/plain": [
       "dtype('int64')"
      ]
     },
     "execution_count": 25,
     "metadata": {},
     "output_type": "execute_result"
    }
   ],
   "source": [
    "calculate_x_y(0).dtype"
   ]
  },
  {
   "cell_type": "code",
   "execution_count": 26,
   "id": "738b569d",
   "metadata": {},
   "outputs": [
    {
     "data": {
      "text/plain": [
       "(6,)"
      ]
     },
     "execution_count": 26,
     "metadata": {},
     "output_type": "execute_result"
    }
   ],
   "source": [
    "calculate_x_y(0).shape"
   ]
  },
  {
   "cell_type": "code",
   "execution_count": 27,
   "id": "3c854b95",
   "metadata": {},
   "outputs": [
    {
     "data": {
      "text/plain": [
       "array([49, 65, 45, 49, 65, 45])"
      ]
     },
     "execution_count": 27,
     "metadata": {},
     "output_type": "execute_result"
    }
   ],
   "source": [
    "calculate_x_y(0)"
   ]
  },
  {
   "cell_type": "code",
   "execution_count": 48,
   "id": "76a355db",
   "metadata": {},
   "outputs": [],
   "source": [
    "\n",
    "def load_data(filepath):\n",
    "    lst = []\n",
    "    with open(filepath) as file:\n",
    "        reader = csv.DictReader(file)\n",
    "        for row in reader:\n",
    "            lst.append(row)\n",
    "    return lst\n",
    "\n",
    "def calc_features(row):\n",
    "    x1 = int(row['Attack'])\n",
    "    x2 = int(row['Sp. Atk'])\n",
    "    x3 = int(row['Speed'])\n",
    "    x4 = int(row['Defense'])\n",
    "    x5 = int(row['Sp. Def'])\n",
    "    x6 = int(row['HP'])\n",
    "    return np.array((x1,x2,x3,x4,x5,x6)).reshape(6,)"
   ]
  },
  {
   "cell_type": "code",
   "execution_count": 49,
   "id": "245e22b5",
   "metadata": {},
   "outputs": [
    {
     "data": {
      "text/plain": [
       "[array([49, 65, 45, 49, 65, 45])]"
      ]
     },
     "execution_count": 49,
     "metadata": {},
     "output_type": "execute_result"
    }
   ],
   "source": [
    "[calc_features(row) for row in load_data('Pokemon.csv')][:1]"
   ]
  },
  {
   "cell_type": "code",
   "execution_count": null,
   "id": "58731d88",
   "metadata": {},
   "outputs": [],
   "source": []
  }
 ],
 "metadata": {
  "kernelspec": {
   "display_name": "Python 3 (ipykernel)",
   "language": "python",
   "name": "python3"
  },
  "language_info": {
   "codemirror_mode": {
    "name": "ipython",
    "version": 3
   },
   "file_extension": ".py",
   "mimetype": "text/x-python",
   "name": "python",
   "nbconvert_exporter": "python",
   "pygments_lexer": "ipython3",
   "version": "3.10.1"
  }
 },
 "nbformat": 4,
 "nbformat_minor": 5
}

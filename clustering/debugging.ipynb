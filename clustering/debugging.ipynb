{
 "cells": [
  {
   "cell_type": "code",
   "execution_count": 80,
   "id": "cbce47da",
   "metadata": {},
   "outputs": [],
   "source": [
    "import csv\n",
    "import pandas as pd\n",
    "import numpy as np\n",
    "from scipy.cluster.hierarchy import dendrogram, linkage\n",
    "import matplotlib.pyplot as plt"
   ]
  },
  {
   "cell_type": "code",
   "execution_count": 81,
   "id": "a3fd8415",
   "metadata": {},
   "outputs": [],
   "source": [
    "def load_data(filepath):\n",
    "    lst = []\n",
    "    with open(filepath) as file:\n",
    "        reader = csv.DictReader(file)\n",
    "        for row in reader:\n",
    "            lst.append(row)\n",
    "    return lst"
   ]
  },
  {
   "cell_type": "code",
   "execution_count": 82,
   "id": "fd33d1dc",
   "metadata": {},
   "outputs": [
    {
     "data": {
      "text/plain": [
       "800"
      ]
     },
     "execution_count": 82,
     "metadata": {},
     "output_type": "execute_result"
    }
   ],
   "source": [
    "data = load_data('Pokemon.csv')\n",
    "info = data[0]\n",
    "\n",
    "info\n",
    "\n",
    "len(data)"
   ]
  },
  {
   "cell_type": "code",
   "execution_count": 83,
   "id": "89c9fa45",
   "metadata": {},
   "outputs": [],
   "source": [
    "def calc_features(row):\n",
    "    x1 = int(row['Attack'])\n",
    "    x2 = int(row['Sp. Atk'])\n",
    "    x3 = int(row['Speed'])\n",
    "    x4 = int(row['Defense'])\n",
    "    x5 = int(row['Sp. Def'])\n",
    "    x6 = int(row['HP'])\n",
    "    return np.array((x1,x2,x3,x4,x5,x6)).reshape(6,)"
   ]
  },
  {
   "cell_type": "code",
   "execution_count": 84,
   "id": "76a355db",
   "metadata": {},
   "outputs": [],
   "source": [
    "\n",
    "def load_data(filepath):\n",
    "    lst = []\n",
    "    with open(filepath) as file:\n",
    "        reader = csv.DictReader(file)\n",
    "        for row in reader:\n",
    "            lst.append(row)\n",
    "    return lst\n",
    "\n",
    "def calc_features(row):\n",
    "    x1 = int(row['Attack'])\n",
    "    x2 = int(row['Sp. Atk'])\n",
    "    x3 = int(row['Speed'])\n",
    "    x4 = int(row['Defense'])\n",
    "    x5 = int(row['Sp. Def'])\n",
    "    x6 = int(row['HP'])\n",
    "    return np.array((x1,x2,x3,x4,x5,x6)).reshape(6,)"
   ]
  },
  {
   "cell_type": "code",
   "execution_count": 85,
   "id": "245e22b5",
   "metadata": {},
   "outputs": [
    {
     "data": {
      "text/plain": [
       "[array([49, 65, 45, 49, 65, 45]),\n",
       " array([62, 80, 60, 63, 80, 60]),\n",
       " array([ 82, 100,  80,  83, 100,  80]),\n",
       " array([100, 122,  80, 123, 120,  80]),\n",
       " array([52, 60, 65, 43, 50, 39]),\n",
       " array([64, 80, 80, 58, 65, 58]),\n",
       " array([ 84, 109, 100,  78,  85,  78]),\n",
       " array([130, 130, 100, 111,  85,  78]),\n",
       " array([104, 159, 100,  78, 115,  78]),\n",
       " array([48, 50, 43, 65, 64, 44]),\n",
       " array([63, 65, 58, 80, 80, 59]),\n",
       " array([ 83,  85,  78, 100, 105,  79]),\n",
       " array([103, 135,  78, 120, 115,  79]),\n",
       " array([30, 20, 45, 35, 20, 45]),\n",
       " array([20, 25, 30, 55, 25, 50]),\n",
       " array([45, 90, 70, 50, 80, 60]),\n",
       " array([35, 20, 50, 30, 20, 40]),\n",
       " array([25, 25, 35, 50, 25, 45]),\n",
       " array([90, 45, 75, 40, 80, 65]),\n",
       " array([150,  15, 145,  40,  80,  65]),\n",
       " array([45, 35, 56, 40, 35, 40]),\n",
       " array([60, 50, 71, 55, 50, 63]),\n",
       " array([ 80,  70, 101,  75,  70,  83]),\n",
       " array([ 80, 135, 121,  80,  80,  83]),\n",
       " array([56, 25, 72, 35, 35, 30]),\n",
       " array([81, 50, 97, 60, 70, 55]),\n",
       " array([60, 31, 70, 30, 31, 40]),\n",
       " array([ 90,  61, 100,  65,  61,  65]),\n",
       " array([60, 40, 55, 44, 54, 35]),\n",
       " array([85, 65, 80, 69, 79, 60])]"
      ]
     },
     "execution_count": 85,
     "metadata": {},
     "output_type": "execute_result"
    }
   ],
   "source": [
    "X = [calc_features(row) for row in load_data('Pokemon.csv')][:30]\n",
    "\n",
    "X"
   ]
  },
  {
   "cell_type": "code",
   "execution_count": 86,
   "id": "6871fe53",
   "metadata": {},
   "outputs": [
    {
     "data": {
      "text/plain": [
       "array([[ 13.        ,  16.        ,  10.        ,   2.        ],\n",
       "       [ 14.        ,  17.        ,  10.        ,   2.        ],\n",
       "       [ 24.        ,  26.        ,  14.03566885,   2.        ],\n",
       "       [  3.        ,  12.        ,  14.73091986,   2.        ],\n",
       "       [ 25.        ,  27.        ,  20.42057786,   2.        ],\n",
       "       [  0.        ,   9.        ,  22.09072203,   2.        ],\n",
       "       [  1.        ,  10.        ,  22.8035085 ,   2.        ],\n",
       "       [  2.        ,  11.        ,  23.34523506,   2.        ],\n",
       "       [  4.        ,  28.        ,  24.43358345,   2.        ],\n",
       "       [ 20.        ,  32.        ,  24.53568829,   3.        ],\n",
       "       [ 29.        ,  34.        ,  28.39013913,   3.        ],\n",
       "       [  5.        ,  15.        ,  29.22327839,   2.        ],\n",
       "       [  6.        ,  23.        ,  34.45286635,   2.        ],\n",
       "       [ 21.        ,  38.        ,  35.73513677,   3.        ],\n",
       "       [ 30.        ,  31.        ,  37.41657387,   4.        ],\n",
       "       [ 22.        ,  40.        ,  37.76241518,   4.        ],\n",
       "       [ 35.        ,  43.        ,  40.08740451,   5.        ],\n",
       "       [ 36.        ,  41.        ,  44.65422712,   4.        ],\n",
       "       [  7.        ,  33.        ,  52.31634544,   3.        ],\n",
       "       [ 18.        ,  45.        ,  55.22680509,   5.        ],\n",
       "       [ 39.        ,  46.        ,  60.8194048 ,   8.        ],\n",
       "       [  8.        ,  42.        ,  61.64414003,   3.        ],\n",
       "       [ 47.        ,  49.        ,  66.15889963,   9.        ],\n",
       "       [ 44.        ,  50.        ,  68.556546  ,  12.        ],\n",
       "       [ 37.        ,  48.        ,  72.38784428,   5.        ],\n",
       "       [ 51.        ,  54.        ,  83.58229478,   8.        ],\n",
       "       [ 52.        ,  53.        , 119.07980517,  21.        ],\n",
       "       [ 19.        ,  55.        , 170.05587317,   9.        ],\n",
       "       [ 56.        ,  57.        , 199.46177579,  30.        ]])"
      ]
     },
     "execution_count": 86,
     "metadata": {},
     "output_type": "execute_result"
    }
   ],
   "source": [
    "Z = linkage(X, method=\"complete\")\n",
    "Z"
   ]
  },
  {
   "cell_type": "code",
   "execution_count": 87,
   "id": "d5eb3e3a",
   "metadata": {},
   "outputs": [],
   "source": [
    "def imshow_hac(Z):\n",
    "    fig = plt.figure(figsize=(10, 6))\n",
    "    den = dendrogram(Z)\n",
    "    plt.show()\n",
    "    "
   ]
  },
  {
   "cell_type": "code",
   "execution_count": 88,
   "id": "ee35e9f5",
   "metadata": {},
   "outputs": [
    {
     "data": {
      "image/png": "[encoded data removed]",
      "text/plain": [
       "<Figure size 720x432 with 1 Axes>"
      ]
     },
     "metadata": {
      "needs_background": "light"
     },
     "output_type": "display_data"
    }
   ],
   "source": [
    "imshow_hac(Z)"
   ]
  },
  {
   "cell_type": "code",
   "execution_count": null,
   "id": "c5908006",
   "metadata": {},
   "outputs": [],
   "source": []
  },
  {
   "cell_type": "code",
   "execution_count": null,
   "id": "e7694599",
   "metadata": {},
   "outputs": [],
   "source": []
  },
  {
   "cell_type": "code",
   "execution_count": null,
   "id": "1cb73ef1",
   "metadata": {},
   "outputs": [],
   "source": []
  }
 ],
 "metadata": {
  "kernelspec": {
   "display_name": "Python 3 (ipykernel)",
   "language": "python",
   "name": "python3"
  },
  "language_info": {
   "codemirror_mode": {
    "name": "ipython",
    "version": 3
   },
   "file_extension": ".py",
   "mimetype": "text/x-python",
   "name": "python",
   "nbconvert_exporter": "python",
   "pygments_lexer": "ipython3",
   "version": "3.10.1"
  }
 },
 "nbformat": 4,
 "nbformat_minor": 5
}

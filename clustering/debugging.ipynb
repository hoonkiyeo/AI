{
 "cells": [
  {
   "cell_type": "code",
   "execution_count": 17,
   "id": "cbce47da",
   "metadata": {},
   "outputs": [],
   "source": [
    "import csv\n",
    "import pandas as pd\n",
    "def load_data(filepath):\n",
    "    pass\n",
    "def calculate_x_y(row):\n",
    "    pass\n",
    "def hac(features):\n",
    "    pass\n",
    "def random_x_y(n):\n",
    "    pass\n",
    "def imshow_hac(Z):\n",
    "    pass"
   ]
  },
  {
   "cell_type": "code",
   "execution_count": 18,
   "id": "a3fd8415",
   "metadata": {},
   "outputs": [],
   "source": [
    "def load_data(filepath):\n",
    "    lst = []\n",
    "    with open('Pokemon.csv') as file:\n",
    "        reader = csv.DictReader(file)\n",
    "        for row in reader:\n",
    "            row['HP'] = int(row['HP'])\n",
    "            row['Attack'] = int(row['Attack'])\n",
    "            row['Defense'] = int(row['Defense'])\n",
    "            row['Sp. Atk'] = int(row['Sp. Atk'])\n",
    "            row['Sp. Def'] = int(row['Sp. Def'])\n",
    "            row['Speed'] = int(row['Speed'])\n",
    "            lst.append(row)\n",
    "    return lst"
   ]
  },
  {
   "cell_type": "code",
   "execution_count": 30,
   "id": "fd33d1dc",
   "metadata": {},
   "outputs": [
    {
     "data": {
      "text/plain": [
       "{'#': '2',\n",
       " 'Name': 'Ivysaur',\n",
       " 'Type 1': 'Grass',\n",
       " 'Type 2': 'Poison',\n",
       " 'Total': '405',\n",
       " 'HP': 60,\n",
       " 'Attack': 62,\n",
       " 'Defense': 63,\n",
       " 'Sp. Atk': 80,\n",
       " 'Sp. Def': 80,\n",
       " 'Speed': 60,\n",
       " 'Generation': '1',\n",
       " 'Legendary': 'False'}"
      ]
     },
     "execution_count": 30,
     "metadata": {},
     "output_type": "execute_result"
    }
   ],
   "source": [
    "data = load_data('Pokemon.csv')\n",
    "data[1]"
   ]
  },
  {
   "cell_type": "code",
   "execution_count": 28,
   "id": "89c9fa45",
   "metadata": {},
   "outputs": [],
   "source": [
    "def calculate_x_y(row):\n",
    "    info = data[row]\n",
    "    x = info['Attack'] + info['Sp. Atk'] + info['Speed']\n",
    "    y = info['Defense'] + info['Sp. Def'] + info['HP']\n",
    "    return [x,y]"
   ]
  },
  {
   "cell_type": "code",
   "execution_count": 33,
   "id": "1659199c",
   "metadata": {},
   "outputs": [
    {
     "data": {
      "text/plain": [
       "[262, 263]"
      ]
     },
     "execution_count": 33,
     "metadata": {},
     "output_type": "execute_result"
    }
   ],
   "source": [
    "features = calculate_x_y(2)\n",
    "features"
   ]
  },
  {
   "cell_type": "code",
   "execution_count": null,
   "id": "bd9cd3b8",
   "metadata": {},
   "outputs": [],
   "source": []
  }
 ],
 "metadata": {
  "kernelspec": {
   "display_name": "Python 3 (ipykernel)",
   "language": "python",
   "name": "python3"
  },
  "language_info": {
   "codemirror_mode": {
    "name": "ipython",
    "version": 3
   },
   "file_extension": ".py",
   "mimetype": "text/x-python",
   "name": "python",
   "nbconvert_exporter": "python",
   "pygments_lexer": "ipython3",
   "version": "3.10.1"
  }
 },
 "nbformat": 4,
 "nbformat_minor": 5
}

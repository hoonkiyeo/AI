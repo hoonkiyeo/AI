{
 "cells": [
  {
   "cell_type": "code",
   "execution_count": 29,
   "id": "200310f9",
   "metadata": {},
   "outputs": [],
   "source": [
    "import sys\n",
    "import math\n",
    "import string\n",
    "\n",
    "def get_parameter_vectors():\n",
    "    '''\n",
    "    This function parses e.txt and s.txt to get the  26-dimensional multinomial\n",
    "    parameter vector (characters probabilities of English and Spanish) as\n",
    "    descibed in section 1.2 of the writeup\n",
    "\n",
    "    Returns: tuple of vectors e and s\n",
    "    '''\n",
    "    #Implementing vectors e,s as lists (arrays) of length 26\n",
    "    #with p[0] being the probability of 'A' and so on\n",
    "    e=[0]*26\n",
    "    s=[0]*26\n",
    "\n",
    "    with open('e.txt',encoding='utf-8') as f:\n",
    "        for line in f:\n",
    "            #strip: removes the newline character\n",
    "            #split: split the string on space character\n",
    "            char,prob=line.strip().split(\" \")\n",
    "            #ord('E') gives the ASCII (integer) value of character 'E'\n",
    "            #we then subtract it from 'A' to give array index\n",
    "            #This way 'A' gets index 0 and 'Z' gets index 25.\n",
    "            e[ord(char)-ord('A')]=float(prob)\n",
    "    f.close()\n",
    "\n",
    "    with open('s.txt',encoding='utf-8') as f:\n",
    "        for line in f:\n",
    "            char,prob=line.strip().split(\" \")\n",
    "            s[ord(char)-ord('A')]=float(prob)\n",
    "    f.close()\n",
    "\n",
    "    return (e,s)"
   ]
  },
  {
   "cell_type": "code",
   "execution_count": 2,
   "id": "32062b1f",
   "metadata": {},
   "outputs": [
    {
     "data": {
      "text/plain": [
       "([0.0834417,\n",
       "  0.0154077,\n",
       "  0.0273137,\n",
       "  0.0414207,\n",
       "  0.126063,\n",
       "  0.0203102,\n",
       "  0.0192096,\n",
       "  0.0611306,\n",
       "  0.0671336,\n",
       "  0.00230115,\n",
       "  0.00870435,\n",
       "  0.0424212,\n",
       "  0.0253127,\n",
       "  0.068034,\n",
       "  0.0770385,\n",
       "  0.0166083,\n",
       "  0.00090045,\n",
       "  0.0568284,\n",
       "  0.0611306,\n",
       "  0.0937469,\n",
       "  0.0285143,\n",
       "  0.0106053,\n",
       "  0.0234117,\n",
       "  0.002001,\n",
       "  0.0204102,\n",
       "  0.0006003],\n",
       " [0.121649,\n",
       "  0.014906,\n",
       "  0.0387155,\n",
       "  0.0467187,\n",
       "  0.140856,\n",
       "  0.00690276,\n",
       "  0.010004,\n",
       "  0.0118047,\n",
       "  0.0598239,\n",
       "  0.00520208,\n",
       "  0.00110044,\n",
       "  0.052421,\n",
       "  0.0308123,\n",
       "  0.070028,\n",
       "  0.0920368,\n",
       "  0.0289116,\n",
       "  0.0111044,\n",
       "  0.0641257,\n",
       "  0.0720288,\n",
       "  0.0460184,\n",
       "  0.0469188,\n",
       "  0.0105042,\n",
       "  0.00040016,\n",
       "  0.00140056,\n",
       "  0.0109044,\n",
       "  0.00470188])"
      ]
     },
     "execution_count": 2,
     "metadata": {},
     "output_type": "execute_result"
    }
   ],
   "source": [
    "get_parameter_vectors()"
   ]
  },
  {
   "cell_type": "code",
   "execution_count": 30,
   "id": "ce17f2b8",
   "metadata": {},
   "outputs": [],
   "source": [
    "def shred(filename):\n",
    "    X=dict.fromkeys(string.ascii_uppercase, 0)\n",
    "    with open (filename,encoding='utf-8') as f:\n",
    "        for line in f:\n",
    "            for c in line.upper():\n",
    "                if c in X:\n",
    "                    X[c] += 1\n",
    "                continue\n",
    "    return X"
   ]
  },
  {
   "cell_type": "code",
   "execution_count": 34,
   "id": "366d28f3",
   "metadata": {},
   "outputs": [
    {
     "data": {
      "text/plain": [
       "{'A': 0,\n",
       " 'B': 0,\n",
       " 'C': 0,\n",
       " 'D': 0,\n",
       " 'E': 0,\n",
       " 'F': 0,\n",
       " 'G': 1,\n",
       " 'H': 1,\n",
       " 'I': 2,\n",
       " 'J': 0,\n",
       " 'K': 0,\n",
       " 'L': 2,\n",
       " 'M': 0,\n",
       " 'N': 0,\n",
       " 'O': 1,\n",
       " 'P': 0,\n",
       " 'Q': 0,\n",
       " 'R': 0,\n",
       " 'S': 0,\n",
       " 'T': 0,\n",
       " 'U': 0,\n",
       " 'V': 0,\n",
       " 'W': 0,\n",
       " 'X': 0,\n",
       " 'Y': 0,\n",
       " 'Z': 0}"
      ]
     },
     "execution_count": 34,
     "metadata": {},
     "output_type": "execute_result"
    }
   ],
   "source": [
    "shred('samples/letter3.txt')"
   ]
  },
  {
   "cell_type": "code",
   "execution_count": null,
   "id": "c87e6ca2",
   "metadata": {},
   "outputs": [],
   "source": []
  }
 ],
 "metadata": {
  "kernelspec": {
   "display_name": "Python 3 (ipykernel)",
   "language": "python",
   "name": "python3"
  },
  "language_info": {
   "codemirror_mode": {
    "name": "ipython",
    "version": 3
   },
   "file_extension": ".py",
   "mimetype": "text/x-python",
   "name": "python",
   "nbconvert_exporter": "python",
   "pygments_lexer": "ipython3",
   "version": "3.9.10"
  }
 },
 "nbformat": 4,
 "nbformat_minor": 5
}

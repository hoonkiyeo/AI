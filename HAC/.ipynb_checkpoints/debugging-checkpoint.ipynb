{
 "cells": [
  {
   "cell_type": "code",
   "execution_count": 202,
   "id": "cbce47da",
   "metadata": {},
   "outputs": [],
   "source": [
    "import csv\n",
    "import pandas as pd\n",
    "import numpy as np\n",
    "from scipy.cluster.hierarchy import dendrogram, linkage\n",
    "import matplotlib.pyplot as plt"
   ]
  },
  {
   "cell_type": "code",
   "execution_count": 203,
   "id": "a3fd8415",
   "metadata": {},
   "outputs": [],
   "source": [
    "def load_data(filepath):\n",
    "    lst = []\n",
    "    with open(filepath) as file:\n",
    "        reader = csv.DictReader(file)\n",
    "        for row in reader:\n",
    "            lst.append(row)\n",
    "    return lst"
   ]
  },
  {
   "cell_type": "code",
   "execution_count": 204,
   "id": "fd33d1dc",
   "metadata": {},
   "outputs": [
    {
     "data": {
      "text/plain": [
       "800"
      ]
     },
     "execution_count": 204,
     "metadata": {},
     "output_type": "execute_result"
    }
   ],
   "source": [
    "data = load_data('Pokemon.csv')\n",
    "info = data[0]\n",
    "\n",
    "info\n",
    "\n",
    "len(data)"
   ]
  },
  {
   "cell_type": "code",
   "execution_count": 205,
   "id": "ad9dacfe",
   "metadata": {},
   "outputs": [],
   "source": [
    "n = len(data)"
   ]
  },
  {
   "cell_type": "code",
   "execution_count": 206,
   "id": "89c9fa45",
   "metadata": {},
   "outputs": [],
   "source": [
    "def calc_features(row):\n",
    "    x1 = int(row['Attack'])\n",
    "    x2 = int(row['Sp. Atk'])\n",
    "    x3 = int(row['Speed'])\n",
    "    x4 = int(row['Defense'])\n",
    "    x5 = int(row['Sp. Def'])\n",
    "    x6 = int(row['HP'])\n",
    "    return np.array((x1,x2,x3,x4,x5,x6)).reshape(6,)"
   ]
  },
  {
   "cell_type": "code",
   "execution_count": 207,
   "id": "76a355db",
   "metadata": {},
   "outputs": [],
   "source": [
    "\n",
    "def load_data(filepath):\n",
    "    lst = []\n",
    "    with open(filepath) as file:\n",
    "        reader = csv.DictReader(file)\n",
    "        for row in reader:\n",
    "            lst.append(row)\n",
    "    return lst\n",
    "\n",
    "def calc_features(row):\n",
    "    x1 = int(row['Attack'])\n",
    "    x2 = int(row['Sp. Atk'])\n",
    "    x3 = int(row['Speed'])\n",
    "    x4 = int(row['Defense'])\n",
    "    x5 = int(row['Sp. Def'])\n",
    "    x6 = int(row['HP'])\n",
    "    return np.array((x1,x2,x3,x4,x5,x6)).reshape(6,)"
   ]
  },
  {
   "cell_type": "code",
   "execution_count": 208,
   "id": "245e22b5",
   "metadata": {},
   "outputs": [
    {
     "data": {
      "text/plain": [
       "[array([49, 65, 45, 49, 65, 45]),\n",
       " array([62, 80, 60, 63, 80, 60]),\n",
       " array([ 82, 100,  80,  83, 100,  80]),\n",
       " array([100, 122,  80, 123, 120,  80])]"
      ]
     },
     "execution_count": 208,
     "metadata": {},
     "output_type": "execute_result"
    }
   ],
   "source": [
    "X = [calc_features(row) for row in load_data('Pokemon.csv')][:4]\n",
    "X"
   ]
  },
  {
   "cell_type": "code",
   "execution_count": 225,
   "id": "6871fe53",
   "metadata": {},
   "outputs": [
    {
     "data": {
      "text/plain": [
       "array([[  0.        ,   1.        ,  35.56683849,   2.        ],\n",
       "       [  2.        ,   3.        ,  52.9905652 ,   2.        ],\n",
       "       [  4.        ,   5.        , 129.61867149,   4.        ]])"
      ]
     },
     "execution_count": 225,
     "metadata": {},
     "output_type": "execute_result"
    }
   ],
   "source": [
    "Z = linkage(X, method=\"complete\")\n",
    "Z"
   ]
  },
  {
   "cell_type": "code",
   "execution_count": 243,
   "id": "562bc588",
   "metadata": {},
   "outputs": [
    {
     "data": {
      "text/plain": [
       "[array([49, 65, 45, 49, 65, 45]),\n",
       " array([62, 80, 60, 63, 80, 60]),\n",
       " array([ 82, 100,  80,  83, 100,  80]),\n",
       " array([100, 122,  80, 123, 120,  80])]"
      ]
     },
     "execution_count": 243,
     "metadata": {},
     "output_type": "execute_result"
    }
   ],
   "source": [
    "X = [calc_features(row) for row in load_data('Pokemon.csv')][:4]\n",
    "X"
   ]
  },
  {
   "cell_type": "code",
   "execution_count": 274,
   "id": "df81a4e5",
   "metadata": {},
   "outputs": [],
   "source": [
    "\n",
    "def load_data(filepath):\n",
    "    lst = []\n",
    "    with open(filepath) as file:\n",
    "        reader = csv.DictReader(file)\n",
    "        for row in reader:\n",
    "            lst.append(row)\n",
    "    return lst\n",
    "\n",
    "def calc_features(row):\n",
    "    x1 = int(row['Attack'])\n",
    "    x2 = int(row['Sp. Atk'])\n",
    "    x3 = int(row['Speed'])\n",
    "    x4 = int(row['Defense'])\n",
    "    x5 = int(row['Sp. Def'])\n",
    "    x6 = int(row['HP'])\n",
    "    return np.array((x1,x2,x3,x4,x5,x6)).reshape(6,)\n",
    "\n",
    "def dist(c1, c2, dataset, dist_matrix=None):\n",
    "    max = 0\n",
    "    if dist_matrix is None:\n",
    "        for p1 in c1:\n",
    "            for p2 in c2:\n",
    "                temp = np.linalg.norm(np.array(dataset[p1])-np.array(dataset[p2]))\n",
    "                if temp > max:\n",
    "                    max = temp\n",
    "    else:\n",
    "        for p1 in c1:\n",
    "            for p2 in c2:\n",
    "                temp = dist_matrix[p1][p2]\n",
    "                if temp > max:\n",
    "                    max = temp\n",
    "    return max\n",
    "\n",
    "def update_dist(new_C, updated_dist, dist_matrix, clusters, new_clusters):\n",
    "    for i in range(new_C):\n",
    "        if i in new_clusters[new_C] or clusters[i] != -1:\n",
    "            continue\n",
    "        l1 = []\n",
    "        if i in new_clusters.keys():\n",
    "            l1 = new_clusters[i]\n",
    "        else:\n",
    "            l1 = [i]\n",
    "        updated_dist[i][new_C] = updated_dist[new_C][i] = dist(l1, new_clusters[new_C], None, dist_matrix)\n",
    "        \n",
    "def hac(dataset):\n",
    "    # update distance between each point (initial cluster)\n",
    "    dist_matrix = np.ones((len(dataset)*2-1, len(dataset)*2-1)) * np.inf\n",
    "    updated_dist = np.ones((len(dataset)*2-1, len(dataset)*2-1)) * np.inf\n",
    "    for i in range(len(dataset)-1):\n",
    "        for j in range(i+1, len(dataset)):\n",
    "            dist_matrix[i][j] = dist_matrix[j][i] = dist([i],[j],dataset)\n",
    "            updated_dist[i][j] = updated_dist[j][i] = dist([i],[j],dataset)\n",
    "    clusters = {}\n",
    "    for i in range(len(dist_matrix)):\n",
    "        clusters[i] = -1\n",
    "    \n",
    "    new_clusters = {}\n",
    "    # {5: [0, 1], 6: [2, 3], 7: [5, 4]}\n",
    "    new_C = len(dataset)\n",
    "    Z = []\n",
    "    while new_C <= 2*len(dataset)-1:\n",
    "        i, j = np.unravel_index(np.argmin(updated_dist, axis=None), updated_dist.shape)\n",
    "        d = updated_dist[i][j]\n",
    "        updated_dist[i][j] = updated_dist[j][i] = np.inf\n",
    "        l1 = [i]\n",
    "        l2 = [j]\n",
    "        if i in new_clusters.keys():\n",
    "            l1 = new_clusters[i]\n",
    "        if j in new_clusters.keys():\n",
    "            l2 = new_clusters[j]\n",
    "        new_l = l1.copy()\n",
    "        new_l.extend(l2)\n",
    "        new_clusters[new_C] = new_l\n",
    "        for x in new_l:\n",
    "            clusters[x] = new_C\n",
    "        update_dist(new_C, updated_dist, dist_matrix, clusters, new_clusters)\n",
    "        print(np.array([i, j, d, len(new_l)]))\n",
    "        Z.append([i, j, d, len(new_l)])\n",
    "        new_C += 1\n",
    "        \n",
    "    return np.array(Z)"
   ]
  },
  {
   "cell_type": "code",
   "execution_count": 278,
   "id": "2d08ee51",
   "metadata": {},
   "outputs": [
    {
     "data": {
      "text/plain": [
       "[array([49, 65, 45, 49, 65, 45]),\n",
       " array([62, 80, 60, 63, 80, 60]),\n",
       " array([ 82, 100,  80,  83, 100,  80]),\n",
       " array([100, 122,  80, 123, 120,  80])]"
      ]
     },
     "execution_count": 278,
     "metadata": {},
     "output_type": "execute_result"
    }
   ],
   "source": [
    "X"
   ]
  },
  {
   "cell_type": "code",
   "execution_count": 415,
   "id": "df03eb38",
   "metadata": {},
   "outputs": [],
   "source": [
    "#helper\n",
    "def dist(c1, c2, points1, points2, dataset, dist_matrix=None):\n",
    "    max = 0\n",
    "    if dist_matrix is None:\n",
    "        return np.linalg.norm(np.array(dataset[c1])-np.array(dataset[c2]))\n",
    "    else:\n",
    "        i = j = -1\n",
    "        dup = []\n",
    "        for x in points1:\n",
    "            for y in points2:\n",
    "                temp = dist_matrix[x][y][0]\n",
    "                if temp > max:\n",
    "                    max = temp\n",
    "                    dup = []\n",
    "                    i = x\n",
    "                    j = y\n",
    "                elif temp == max:\n",
    "                    if (i, j) not in dup:\n",
    "                        dup.append((i, j))\n",
    "                    dup.append((x, y))\n",
    "        if len(dup)==0:\n",
    "            dist_matrix[c1][c2][1] = dist_matrix[c2][c1][1] = (i,j)    \n",
    "        else:\n",
    "            dup.sort()\n",
    "            dist_matrix[c1][c2][1] = dist_matrix[c2][c1][1] = dup[0]\n",
    "    return max\n",
    "#helper\n",
    "def update_dist(new_C, dist_matrix, clusters, new_clusters):\n",
    "    for c in clusters:\n",
    "        l1 = []\n",
    "        if c in new_clusters.keys():\n",
    "            l1 = new_clusters[c]\n",
    "        else:\n",
    "            l1 = [c]\n",
    "        dist_matrix[c][new_C] = dist_matrix[new_C][c] = dist(l1, new_clusters[new_C], None, dist_matrix)\n",
    "\n",
    "#helper\n",
    "def get_closest(clusters, dist_matrix):\n",
    "    min = np.inf\n",
    "    c1 = c2 = -1\n",
    "    for i in range(len(clusters)-1):\n",
    "        for j in range(i+1, len(clusters)):\n",
    "            d = dist_matrix[clusters[i]][clusters[j]]\n",
    "            if min > d:\n",
    "                min = d\n",
    "                c1, c2 = clusters[i], clusters[j]\n",
    "    return c1, c2\n",
    "                \n",
    "\n",
    "def hac(dataset):\n",
    "    # update distance between each point (initial cluster)\n",
    "    \n",
    "    dist_matrix = np.ones((len(dataset)*2-1, len(dataset)*2-1)) * np.inf\n",
    "    for i in range(len(dataset)-1):\n",
    "        for j in range(i+1, len(dataset)):\n",
    "            dist_matrix[i][j] = dist_matrix[j][i] = dist([i],[j],dataset)\n",
    "\n",
    "    clusters = [i for i in range(len(dataset))]\n",
    "        \n",
    "    new_clusters = {}\n",
    "    # {5: [0, 1], 6: [2, 3], 7: [5, 4]}\n",
    "    new_C = len(dataset)\n",
    "    Z = []\n",
    "    while len(clusters)>1:\n",
    "        i, j = get_closest(clusters, dist_matrix)\n",
    "        d = dist_matrix[i][j]\n",
    "        l1 = [i]\n",
    "        l2 = [j]\n",
    "        if i in new_clusters.keys():\n",
    "            l1 = new_clusters[i]\n",
    "        if j in new_clusters.keys():\n",
    "            l2 = new_clusters[j]\n",
    "        new_l = l1.copy()\n",
    "        new_l.extend(l2)\n",
    "        new_clusters[new_C] = new_l\n",
    "        clusters.remove(i)\n",
    "        clusters.remove(j)\n",
    "        update_dist(new_C, dist_matrix, clusters, new_clusters)\n",
    "        clusters.append(new_C)\n",
    "        Z.append([i, j, d, len(new_l)])\n",
    "        new_C += 1\n",
    "    return np.array(Z)"
   ]
  },
  {
   "cell_type": "code",
   "execution_count": 481,
   "id": "5cebb551",
   "metadata": {},
   "outputs": [],
   "source": [
    "def dist(c1, c2, points1, points2, dataset, dist_matrix=None):\n",
    "    max = 0\n",
    "    if dist_matrix is None:\n",
    "        return np.linalg.norm(np.array(dataset[c1])-np.array(dataset[c2]))\n",
    "    else:\n",
    "        i = j = -1\n",
    "        dup = []\n",
    "        for x in points1:\n",
    "            for y in points2:\n",
    "                temp = dist_matrix[x][y][0]\n",
    "                if temp > max:\n",
    "                    max = temp\n",
    "                    dup = []\n",
    "                    i = x\n",
    "                    j = y\n",
    "                elif temp == max:\n",
    "                    if (i, j) not in dup:\n",
    "                        dup.append((i, j))\n",
    "                    dup.append((x, y))\n",
    "        if len(dup)==0:\n",
    "            dist_matrix[c1][c2][1] = dist_matrix[c2][c1][1] = (i,j)    \n",
    "        else:\n",
    "            dup.sort()\n",
    "            dist_matrix[c1][c2][1] = dist_matrix[c2][c1][1] = dup[0]\n",
    "    return max\n",
    "\n",
    "def update_dist(new_C, dist_matrix, clusters, new_clusters):\n",
    "    for c in clusters:\n",
    "        l1 = []\n",
    "        if c in new_clusters.keys():\n",
    "            l1 = new_clusters[c]\n",
    "        else:\n",
    "            l1 = [c]\n",
    "        dist_matrix[c][new_C][0] = dist_matrix[new_C][c][0] = dist(c, new_C, l1, new_clusters[new_C], None, dist_matrix)\n",
    "\n",
    "def get_closest(clusters, dist_matrix):\n",
    "    min = np.inf\n",
    "    c1 = c2 = -1\n",
    "    for i in range(len(clusters)-1):\n",
    "        for j in range(i+1, len(clusters)):\n",
    "            d = dist_matrix[clusters[i]][clusters[j]][0]\n",
    "            if min > d:\n",
    "                min = d\n",
    "                c1, c2 = clusters[i], clusters[j]\n",
    "            elif min == d:\n",
    "                if dist_matrix[c1][c2][1] > dist_matrix[clusters[i]][clusters[j]][1]:\n",
    "                    c1 = clusters[i]\n",
    "                    c2 = clusters[j]\n",
    "    return c1, c2\n",
    "\n",
    "def hac(dataset):\n",
    "    # update distance between each point (initial cluster)\n",
    "    dist_matrix = [[[np.inf, (-1, -1)] for i in range(len(dataset)*2-1)] for j in range(len(dataset)*2-1)]\n",
    "    for i in range(len(dataset)-1):\n",
    "        for j in range(i+1, len(dataset)):\n",
    "            dist_matrix[i][j][0] = dist_matrix[j][i][0] = dist(i,j,None, None,dataset)\n",
    "            dist_matrix[i][j][1] = dist_matrix[j][i][1] = (i, j)\n",
    "\n",
    "    clusters = [i for i in range(len(dataset))]\n",
    "        \n",
    "    new_clusters = {}\n",
    "    # {5: [0, 1], 6: [2, 3], 7: [5, 4]}\n",
    "    new_C = len(dataset)\n",
    "    Z = []\n",
    "    while len(clusters)>1:\n",
    "        i, j = get_closest(clusters, dist_matrix)\n",
    "        d = dist_matrix[i][j][0]\n",
    "        l1 = [i]\n",
    "        l2 = [j]\n",
    "        if i in new_clusters.keys():\n",
    "            l1 = new_clusters[i]\n",
    "        if j in new_clusters.keys():\n",
    "            l2 = new_clusters[j]\n",
    "        new_l = l1.copy()\n",
    "        new_l.extend(l2)\n",
    "        new_clusters[new_C] = new_l\n",
    "        clusters.remove(i)\n",
    "        clusters.remove(j)\n",
    "        update_dist(new_C, dist_matrix, clusters, new_clusters)\n",
    "        clusters.append(new_C)\n",
    "        Z.append([i, j, d, len(new_l)])\n",
    "        new_C += 1\n",
    "    return np.array(Z)"
   ]
  },
  {
   "cell_type": "code",
   "execution_count": 513,
   "id": "8824564f",
   "metadata": {},
   "outputs": [],
   "source": [
    "X = [calc_features(row) for row in load_data('Pokemon.csv')][:76]"
   ]
  },
  {
   "cell_type": "code",
   "execution_count": 514,
   "id": "57d987c3",
   "metadata": {},
   "outputs": [],
   "source": [
    "Z = linkage(X, method=\"complete\")"
   ]
  },
  {
   "cell_type": "code",
   "execution_count": null,
   "id": "fcd921ee",
   "metadata": {},
   "outputs": [],
   "source": [
    "Z2 = hac(X)\n",
    "Z2"
   ]
  },
  {
   "cell_type": "code",
   "execution_count": 516,
   "id": "18d2dfe5",
   "metadata": {},
   "outputs": [
    {
     "data": {
      "text/plain": [
       "array([[ True,  True,  True,  True],\n",
       "       [ True,  True,  True,  True],\n",
       "       [ True,  True,  True,  True],\n",
       "       [ True,  True,  True,  True],\n",
       "       [ True,  True,  True,  True],\n",
       "       [ True,  True,  True,  True],\n",
       "       [ True,  True,  True,  True],\n",
       "       [ True,  True,  True,  True],\n",
       "       [ True,  True,  True,  True],\n",
       "       [ True,  True,  True,  True],\n",
       "       [ True,  True,  True,  True],\n",
       "       [ True,  True,  True,  True],\n",
       "       [ True,  True,  True,  True],\n",
       "       [ True,  True,  True,  True],\n",
       "       [ True,  True,  True,  True],\n",
       "       [ True,  True,  True,  True],\n",
       "       [ True,  True,  True,  True],\n",
       "       [ True,  True,  True,  True],\n",
       "       [ True,  True,  True,  True],\n",
       "       [ True,  True,  True,  True],\n",
       "       [ True,  True,  True,  True],\n",
       "       [ True,  True,  True,  True],\n",
       "       [ True,  True,  True,  True],\n",
       "       [ True,  True,  True,  True],\n",
       "       [ True,  True,  True,  True],\n",
       "       [ True,  True,  True,  True],\n",
       "       [ True,  True,  True,  True],\n",
       "       [ True,  True,  True,  True],\n",
       "       [ True,  True,  True,  True],\n",
       "       [ True,  True,  True,  True],\n",
       "       [ True,  True,  True,  True],\n",
       "       [ True,  True,  True,  True],\n",
       "       [ True,  True,  True,  True],\n",
       "       [ True,  True,  True,  True],\n",
       "       [ True,  True,  True,  True],\n",
       "       [ True,  True,  True,  True],\n",
       "       [ True,  True,  True,  True],\n",
       "       [ True,  True,  True,  True],\n",
       "       [ True,  True,  True,  True],\n",
       "       [ True,  True,  True,  True],\n",
       "       [ True,  True,  True,  True],\n",
       "       [ True,  True,  True,  True],\n",
       "       [ True,  True,  True,  True],\n",
       "       [ True,  True,  True,  True],\n",
       "       [ True,  True,  True,  True],\n",
       "       [ True,  True,  True,  True],\n",
       "       [ True,  True,  True,  True],\n",
       "       [ True,  True,  True,  True],\n",
       "       [ True,  True,  True,  True],\n",
       "       [ True,  True,  True,  True],\n",
       "       [ True,  True,  True,  True],\n",
       "       [ True,  True,  True,  True],\n",
       "       [ True,  True,  True,  True],\n",
       "       [ True,  True,  True,  True],\n",
       "       [ True,  True,  True,  True],\n",
       "       [ True,  True,  True,  True],\n",
       "       [ True,  True,  True,  True],\n",
       "       [ True,  True,  True,  True],\n",
       "       [ True,  True,  True,  True],\n",
       "       [ True,  True,  True,  True],\n",
       "       [ True,  True,  True,  True],\n",
       "       [ True,  True,  True,  True],\n",
       "       [ True,  True,  True,  True],\n",
       "       [ True,  True,  True,  True],\n",
       "       [ True,  True,  True,  True],\n",
       "       [ True,  True,  True,  True],\n",
       "       [ True,  True,  True,  True],\n",
       "       [ True,  True,  True,  True],\n",
       "       [ True,  True,  True,  True],\n",
       "       [ True,  True,  True,  True],\n",
       "       [ True,  True,  True,  True],\n",
       "       [ True,  True,  True,  True],\n",
       "       [ True,  True,  True,  True],\n",
       "       [ True,  True,  True,  True],\n",
       "       [ True,  True,  True,  True]])"
      ]
     },
     "execution_count": 516,
     "metadata": {},
     "output_type": "execute_result"
    }
   ],
   "source": [
    "Z == Z2"
   ]
  },
  {
   "cell_type": "code",
   "execution_count": 503,
   "id": "f469a79c",
   "metadata": {},
   "outputs": [],
   "source": [
    "def imshow_hac(Z):\n",
    "    fig = plt.figure(figsize=(10, 6))\n",
    "    den = dendrogram(Z)\n",
    "    plt.show()"
   ]
  },
  {
   "cell_type": "code",
   "execution_count": 504,
   "id": "0dfaac4c",
   "metadata": {},
   "outputs": [
    {
     "data": {
      "image/png": "[encoded data removed]",
      "text/plain": [
       "<Figure size 720x432 with 1 Axes>"
      ]
     },
     "metadata": {
      "needs_background": "light"
     },
     "output_type": "display_data"
    }
   ],
   "source": [
    "imshow_hac(Z2)"
   ]
  },
  {
   "cell_type": "code",
   "execution_count": null,
   "id": "60e00729",
   "metadata": {},
   "outputs": [],
   "source": []
  }
 ],
 "metadata": {
  "kernelspec": {
   "display_name": "Python 3 (ipykernel)",
   "language": "python",
   "name": "python3"
  },
  "language_info": {
   "codemirror_mode": {
    "name": "ipython",
    "version": 3
   },
   "file_extension": ".py",
   "mimetype": "text/x-python",
   "name": "python",
   "nbconvert_exporter": "python",
   "pygments_lexer": "ipython3",
   "version": "3.10.1"
  }
 },
 "nbformat": 4,
 "nbformat_minor": 5
}

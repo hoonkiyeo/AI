{
 "cells": [
  {
   "cell_type": "code",
   "execution_count": 1,
   "id": "efb727ce",
   "metadata": {},
   "outputs": [],
   "source": [
    "import numpy as np\n",
    "import torch\n",
    "import torch.nn as nn\n",
    "import torch.nn.functional as F\n",
    "import torch.optim as optim\n",
    "import torchvision\n",
    "from torchvision import datasets, transforms\n"
   ]
  },
  {
   "cell_type": "code",
   "execution_count": 2,
   "id": "516ca8bb",
   "metadata": {},
   "outputs": [],
   "source": [
    "custom_transform= transforms.Compose([\n",
    "        transforms.ToTensor(),\n",
    "        transforms.Normalize((0.1307,), (0.3081,))\n",
    "        ])"
   ]
  },
  {
   "cell_type": "code",
   "execution_count": 3,
   "id": "01e8a823",
   "metadata": {},
   "outputs": [],
   "source": [
    "train_set=datasets.FashionMNIST('./data', train=True, download=True, transform=custom_transform)"
   ]
  },
  {
   "cell_type": "code",
   "execution_count": 4,
   "id": "72e738f5",
   "metadata": {},
   "outputs": [
    {
     "data": {
      "text/plain": [
       "Dataset FashionMNIST\n",
       "    Number of datapoints: 60000\n",
       "    Root location: ./data\n",
       "    Split: Train\n",
       "    StandardTransform\n",
       "Transform: Compose(\n",
       "               ToTensor()\n",
       "               Normalize(mean=(0.1307,), std=(0.3081,))\n",
       "           )"
      ]
     },
     "execution_count": 4,
     "metadata": {},
     "output_type": "execute_result"
    }
   ],
   "source": [
    "train_set"
   ]
  },
  {
   "cell_type": "code",
   "execution_count": 5,
   "id": "6df12604",
   "metadata": {},
   "outputs": [],
   "source": [
    "def get_data_loader(training=True):\n",
    "    custom_transform= transforms.Compose([\n",
    "        transforms.ToTensor(),\n",
    "        transforms.Normalize((0.1307,), (0.3081,))\n",
    "        ])\n",
    "    \n",
    "    if training == True:\n",
    "        train_set=datasets.FashionMNIST('./data', train=training, download=True, transform=custom_transform)\n",
    "        train_loader = torch.utils.data.DataLoader(train_set, batch_size = 64)\n",
    "        return train_loader\n",
    "    else:\n",
    "        test_set=datasets.FashionMNIST('./data', train=False, download=True,transform=custom_transform)\n",
    "        test_loader = torch.utils.data.DataLoader(test_set, batch_size = 64, shuffle=False)\n",
    "        return test_loader\n",
    "    "
   ]
  },
  {
   "cell_type": "code",
   "execution_count": 6,
   "id": "16df75b5",
   "metadata": {},
   "outputs": [
    {
     "name": "stdout",
     "output_type": "stream",
     "text": [
      "<class 'torch.utils.data.dataloader.DataLoader'>\n"
     ]
    }
   ],
   "source": [
    "train_loader = get_data_loader()\n",
    "print(type(train_loader))"
   ]
  },
  {
   "cell_type": "code",
   "execution_count": 7,
   "id": "09d618fd",
   "metadata": {},
   "outputs": [
    {
     "name": "stdout",
     "output_type": "stream",
     "text": [
      "Dataset FashionMNIST\n",
      "    Number of datapoints: 60000\n",
      "    Root location: ./data\n",
      "    Split: Train\n",
      "    StandardTransform\n",
      "Transform: Compose(\n",
      "               ToTensor()\n",
      "               Normalize(mean=(0.1307,), std=(0.3081,))\n",
      "           )\n"
     ]
    }
   ],
   "source": [
    "print(train_loader.dataset)"
   ]
  },
  {
   "cell_type": "code",
   "execution_count": 8,
   "id": "de63d044",
   "metadata": {},
   "outputs": [
    {
     "name": "stdout",
     "output_type": "stream",
     "text": [
      "<class 'torch.utils.data.dataloader.DataLoader'>\n",
      "Dataset FashionMNIST\n",
      "    Number of datapoints: 10000\n",
      "    Root location: ./data\n",
      "    Split: Test\n",
      "    StandardTransform\n",
      "Transform: Compose(\n",
      "               ToTensor()\n",
      "               Normalize(mean=(0.1307,), std=(0.3081,))\n",
      "           )\n"
     ]
    }
   ],
   "source": [
    "test_loader = get_data_loader(False)\n",
    "print(type(test_loader))\n",
    "print(test_loader.dataset)"
   ]
  },
  {
   "cell_type": "code",
   "execution_count": 9,
   "id": "da686c6d",
   "metadata": {},
   "outputs": [],
   "source": [
    "def build_model():\n",
    "    untrained_model = nn.Sequential(nn.Flatten(),\n",
    "              nn.Linear(in_features= 28*28, out_features=120),\n",
    "              nn.ReLU(),\n",
    "             nn.Linear(in_features=120, out_features=60),\n",
    "              nn.ReLU(),\n",
    "             nn.Linear(in_features=60, out_features=10))\n",
    "    return untrained_model"
   ]
  },
  {
   "cell_type": "code",
   "execution_count": 10,
   "id": "36178d14",
   "metadata": {},
   "outputs": [],
   "source": [
    "model = build_model()"
   ]
  },
  {
   "cell_type": "code",
   "execution_count": 11,
   "id": "e31b41fa",
   "metadata": {},
   "outputs": [
    {
     "name": "stdout",
     "output_type": "stream",
     "text": [
      "Sequential(\n",
      "  (0): Flatten(start_dim=1, end_dim=-1)\n",
      "  (1): Linear(in_features=784, out_features=120, bias=True)\n",
      "  (2): ReLU()\n",
      "  (3): Linear(in_features=120, out_features=60, bias=True)\n",
      "  (4): ReLU()\n",
      "  (5): Linear(in_features=60, out_features=10, bias=True)\n",
      ")\n"
     ]
    }
   ],
   "source": [
    "print(model)"
   ]
  },
  {
   "cell_type": "code",
   "execution_count": 12,
   "id": "69bdc577",
   "metadata": {},
   "outputs": [],
   "source": [
    "criterion = nn.CrossEntropyLoss()"
   ]
  },
  {
   "cell_type": "code",
   "execution_count": 13,
   "id": "ed19762e",
   "metadata": {},
   "outputs": [],
   "source": [
    "def train_model(model, train_loader, criterion, T):\n",
    "    model.train()\n",
    "    opt = optim.SGD(model.parameters(), lr=0.001, momentum=0.9)\n",
    "    n = len(train_loader.dataset)\n",
    "    for epoch in range(T):\n",
    "        running_loss = 0.0\n",
    "        correct = 0\n",
    "        for i, data in enumerate(train_loader, 0):\n",
    "            inputs, labels = data\n",
    "            opt.zero_grad()\n",
    "\n",
    "            outputs = model(inputs)\n",
    "            loss = criterion(outputs, labels)\n",
    "            loss.backward()\n",
    "            opt.step()\n",
    "\n",
    "            running_loss += loss.item()*50\n",
    "\n",
    "            _, predicted = torch.max(outputs, 1)\n",
    "            correct += (predicted == labels).sum().item()\n",
    "        print(f'Train Epoch: {epoch}\\tAccuracy: {correct}/{n}({correct/n*100:.2f}%)\\tLoss: {running_loss/n:.3f}')"
   ]
  },
  {
   "cell_type": "code",
   "execution_count": 14,
   "id": "63dd7548",
   "metadata": {},
   "outputs": [
    {
     "name": "stdout",
     "output_type": "stream",
     "text": [
      "Train Epoch: 0\tAccuracy: 42249/60000(70.42%)\tLoss: 0.710\n",
      "Train Epoch: 1\tAccuracy: 49284/60000(82.14%)\tLoss: 0.399\n",
      "Train Epoch: 2\tAccuracy: 50406/60000(84.01%)\tLoss: 0.355\n",
      "Train Epoch: 3\tAccuracy: 51048/60000(85.08%)\tLoss: 0.331\n",
      "Train Epoch: 4\tAccuracy: 51519/60000(85.87%)\tLoss: 0.314\n"
     ]
    }
   ],
   "source": [
    "train_model(model, train_loader, criterion, 5)"
   ]
  },
  {
   "cell_type": "code",
   "execution_count": 15,
   "id": "5123f4fc",
   "metadata": {},
   "outputs": [],
   "source": [
    "def evaluate_model(model, test_loader, criterion, show_loss = True):\n",
    "    model.eval()\n",
    "    n = len(test_loader.dataset)\n",
    "    running_loss = 0.0\n",
    "    correct = 0\n",
    "    with torch.no_grad():\n",
    "        \n",
    "        for data, labels in test_loader:\n",
    "            outputs = model(data)\n",
    "            loss = criterion(outputs, labels)\n",
    "            running_loss += loss.item()*50\n",
    "            _, predicted = torch.max(outputs, 1)\n",
    "            correct += (predicted == labels).sum().item()\n",
    "    if not show_loss:\n",
    "        print(f'Accuracy: {(correct/n)*100:.2f}%')\n",
    "    else:\n",
    "        print(f'Average loss: {(running_loss/n):.4f}')\n",
    "        print(f'Accuracy: {(correct/n)*100:.2f}%')\n"
   ]
  },
  {
   "cell_type": "code",
   "execution_count": 16,
   "id": "f6745f0c",
   "metadata": {},
   "outputs": [
    {
     "name": "stdout",
     "output_type": "stream",
     "text": [
      "Average loss: 0.3378\n",
      "Accuracy: 84.70%\n"
     ]
    }
   ],
   "source": [
    "evaluate_model(model, test_loader, criterion, show_loss = True)"
   ]
  },
  {
   "cell_type": "code",
   "execution_count": 19,
   "id": "102e0531",
   "metadata": {},
   "outputs": [],
   "source": [
    "class_names = ['T-shirt/top', 'Trouser', 'Pullover', 'Dress', 'Coat', 'Sandal', 'Shirt', 'Sneaker', 'Bag', 'Ankle Boot']"
   ]
  },
  {
   "cell_type": "code",
   "execution_count": 21,
   "id": "5cc6ba84",
   "metadata": {},
   "outputs": [],
   "source": [
    "def predict_label(model, test_images, index):\n",
    "    \"\"\"\n",
    "    TODO: implement this function.\n",
    "\n",
    "    INPUT: \n",
    "        model - the trained model\n",
    "        test_images   -  test image set of shape Nx1x28x28\n",
    "        index   -  specific index  i of the image to be tested: 0 <= i <= N - 1\n",
    "\n",
    "\n",
    "    RETURNS:\n",
    "        None\n",
    "    \"\"\"\n",
    "    class_names = ['T-shirt/top', 'Trouser', 'Pullover', 'Dress', 'Coat', 'Sandal', 'Shirt', 'Sneaker', 'Bag', 'Ankle Boot']\n",
    "    logits = model(test_images)\n",
    "    prob = F.softmax(logits,dim=1)\n",
    "    probs,labels = torch.topk(prob[index],3)\n",
    "    \n",
    "    for i in range(3):\n",
    "        print(f'{class_names[labels[i]]}: {probs[i]*100:.2f}%')\n",
    "    \n"
   ]
  },
  {
   "cell_type": "code",
   "execution_count": 20,
   "id": "7b6c3476",
   "metadata": {},
   "outputs": [],
   "source": [
    "?torch.topk"
   ]
  },
  {
   "cell_type": "code",
   "execution_count": 25,
   "id": "3b954d1b",
   "metadata": {},
   "outputs": [],
   "source": [
    "x = test_loader.dataset[0][0]\n",
    "x = x[None]"
   ]
  },
  {
   "cell_type": "code",
   "execution_count": 27,
   "id": "2cb79d22",
   "metadata": {},
   "outputs": [],
   "source": [
    "x = torch.cat((x, (test_loader.dataset[1][0])[None]),0)"
   ]
  },
  {
   "cell_type": "code",
   "execution_count": 28,
   "id": "1858c1d9",
   "metadata": {},
   "outputs": [
    {
     "data": {
      "text/plain": [
       "tensor([[[[-0.4242, -0.4242, -0.4242,  ..., -0.4242, -0.4242, -0.4242],\n",
       "          [-0.4242, -0.4242, -0.4242,  ..., -0.4242, -0.4242, -0.4242],\n",
       "          [-0.4242, -0.4242, -0.4242,  ..., -0.4242, -0.4242, -0.4242],\n",
       "          ...,\n",
       "          [-0.4242, -0.4242, -0.4242,  ..., -0.4242, -0.4242, -0.4242],\n",
       "          [-0.4242, -0.4242, -0.4242,  ..., -0.4242, -0.4242, -0.4242],\n",
       "          [-0.4242, -0.4242, -0.4242,  ..., -0.4242, -0.4242, -0.4242]]],\n",
       "\n",
       "\n",
       "        [[[-0.4242, -0.4242, -0.4242,  ..., -0.4242, -0.4242, -0.4242],\n",
       "          [-0.4242, -0.4242, -0.4242,  ..., -0.4242, -0.4242, -0.4242],\n",
       "          [-0.4242, -0.4242, -0.4242,  ..., -0.4242, -0.4242, -0.4242],\n",
       "          ...,\n",
       "          [-0.4242, -0.4242, -0.4242,  ..., -0.4242, -0.4242, -0.4242],\n",
       "          [-0.4242, -0.4242, -0.4242,  ..., -0.4242, -0.4242, -0.4242],\n",
       "          [-0.4242, -0.4242, -0.4242,  ..., -0.4242, -0.4242, -0.4242]]]])"
      ]
     },
     "execution_count": 28,
     "metadata": {},
     "output_type": "execute_result"
    }
   ],
   "source": [
    "x"
   ]
  },
  {
   "cell_type": "code",
   "execution_count": 30,
   "id": "a26553f6",
   "metadata": {},
   "outputs": [
    {
     "name": "stdout",
     "output_type": "stream",
     "text": [
      "Pullover: 87.71%\n",
      "Shirt: 10.96%\n",
      "Coat: 1.21%\n"
     ]
    }
   ],
   "source": [
    "predict_label(model, x, 1)"
   ]
  },
  {
   "cell_type": "code",
   "execution_count": 35,
   "id": "0193b195",
   "metadata": {},
   "outputs": [
    {
     "name": "stdout",
     "output_type": "stream",
     "text": [
      "Train Epoch: 0\tAccuracy: 41750/60000(69.58%)\tLoss: 0.722\n",
      "Train Epoch: 1\tAccuracy: 49111/60000(81.85%)\tLoss: 0.406\n",
      "Train Epoch: 2\tAccuracy: 50356/60000(83.93%)\tLoss: 0.358\n",
      "Train Epoch: 3\tAccuracy: 51046/60000(85.08%)\tLoss: 0.333\n",
      "Train Epoch: 4\tAccuracy: 51513/60000(85.86%)\tLoss: 0.315\n",
      "\n",
      "Average loss: 0.3378\n",
      "Accuracy: 84.73%\n",
      "\n",
      "Accuracy: 84.73%\n",
      "\n",
      "Pullover: 93.06%\n",
      "Shirt: 6.19%\n",
      "Coat: 0.68%\n"
     ]
    }
   ],
   "source": [
    "if __name__ == '__main__':\n",
    "    train_loader = get_data_loader()\n",
    "    model = build_model()\n",
    "    criterion = nn.CrossEntropyLoss()\n",
    "    test_loader = get_data_loader(False)\n",
    "    test_images = test_loader.dataset[0][0]\n",
    "    test_images = test_images[None]\n",
    "    test_images = torch.cat((x, (test_loader.dataset[1][0])[None]),0)\n",
    "    \n",
    "    train_model(model, train_loader, criterion, 5)\n",
    "    print()\n",
    "    evaluate_model(model, test_loader, criterion, True)\n",
    "    print()\n",
    "    evaluate_model(model, test_loader, criterion, False)\n",
    "    print()\n",
    "    predict_label(model, test_images, 1)"
   ]
  },
  {
   "cell_type": "code",
   "execution_count": null,
   "id": "410b6f84",
   "metadata": {},
   "outputs": [],
   "source": []
  }
 ],
 "metadata": {
  "kernelspec": {
   "display_name": "Python 3 (ipykernel)",
   "language": "python",
   "name": "python3"
  },
  "language_info": {
   "codemirror_mode": {
    "name": "ipython",
    "version": 3
   },
   "file_extension": ".py",
   "mimetype": "text/x-python",
   "name": "python",
   "nbconvert_exporter": "python",
   "pygments_lexer": "ipython3",
   "version": "3.10.1"
  }
 },
 "nbformat": 4,
 "nbformat_minor": 5
}
